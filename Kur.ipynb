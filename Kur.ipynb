{
 "cells": [
  {
   "cell_type": "code",
   "execution_count": 30,
   "metadata": {
    "collapsed": false
   },
   "outputs": [
    {
     "name": "stdout",
     "output_type": "stream",
     "text": [
      "W tensorflow/stream_executor/cuda/cuda_driver.cc:590] creating context when one is currently active; existing: 0x48a3490\n",
      "\n",
      "Epoch 1/8, loss=37.945: 100%|██████| 53498/53498 [2:20:30<00:00,  5.19samples/s]\n",
      "Validating, loss=37.663: 100%|█████████| 4355/4355 [04:27<00:00,  7.65samples/s]\n",
      "\n",
      "Epoch 2/8, loss=37.179:   2%|▏      | 1200/53498 [03:09<2:16:45,  6.37samples/s]^C\n"
     ]
    }
   ],
   "source": [
    "!kur train kur.yml"
   ]
  },
  {
   "cell_type": "code",
   "execution_count": null,
   "metadata": {
    "collapsed": false
   },
   "outputs": [
    {
     "name": "stdout",
     "output_type": "stream",
     "text": [
      "W tensorflow/stream_executor/cuda/cuda_driver.cc:590] creating context when one is currently active; existing: 0x2f8a180\n",
      "\n",
      "Epoch 1/256, loss=1.712: 100%|██████| 46673/46673 [00:53<00:00, 864.39samples/s]\n",
      "Validating, loss=1.686: 100%|████████| 5184/5184 [00:03<00:00, 1539.28samples/s]\n",
      "\n",
      "Epoch 2/256, loss=1.565:  38%|██▎   | 17792/46673 [00:21<00:32, 877.89samples/s]"
     ]
    }
   ],
   "source": [
    "!kur train waveform.yml"
   ]
  },
  {
   "cell_type": "code",
   "execution_count": null,
   "metadata": {
    "collapsed": true
   },
   "outputs": [],
   "source": []
  }
 ],
 "metadata": {
  "anaconda-cloud": {},
  "kernelspec": {
   "display_name": "Python [default]",
   "language": "python",
   "name": "python3"
  },
  "language_info": {
   "codemirror_mode": {
    "name": "ipython",
    "version": 3
   },
   "file_extension": ".py",
   "mimetype": "text/x-python",
   "name": "python",
   "nbconvert_exporter": "python",
   "pygments_lexer": "ipython3",
   "version": "3.5.3"
  }
 },
 "nbformat": 4,
 "nbformat_minor": 1
}
